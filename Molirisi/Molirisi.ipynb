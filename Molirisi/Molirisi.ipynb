{
 "cells": [
  {
   "cell_type": "code",
   "execution_count": 1,
   "metadata": {
    "collapsed": true
   },
   "outputs": [],
   "source": [
    "import pyrealsense2 as rs\n",
    "import numpy as np\n",
    "import cv2"
   ]
  },
  {
   "cell_type": "code",
   "execution_count": 2,
   "metadata": {
    "collapsed": true
   },
   "outputs": [],
   "source": [
    "# Application Config\n",
    "EnableColorStream = 0\n",
    "ColorStreamResWidth = 1920\n",
    "ColorStreamResHeight = 1080\n",
    "ColorStreamFPS = 30\n",
    "\n",
    "EnableDepthStream = 1\n",
    "DepthStreamResWidth = 1280\n",
    "DepthStreamResHeight = 720\n",
    "DepthStreamFPS = 30"
   ]
  },
  {
   "cell_type": "code",
   "execution_count": 3,
   "metadata": {},
   "outputs": [
    {
     "data": {
      "text/plain": [
       "<pyrealsense2.pipeline_profile at 0x1d88966aa50>"
      ]
     },
     "execution_count": 3,
     "metadata": {},
     "output_type": "execute_result"
    }
   ],
   "source": [
    "# Configure depth and color streams\n",
    "pipeline = rs.pipeline()\n",
    "config = rs.config()\n",
    "\n",
    "if EnableColorStream:\n",
    "    config.enable_stream(\n",
    "        rs.stream.color, ColorStreamResWidth, ColorStreamResHeight, rs.format.bgr8, ColorStreamFPS)\n",
    "\n",
    "if EnableDepthStream:\n",
    "    config.enable_stream(\n",
    "        rs.stream.depth, DepthStreamResWidth, DepthStreamResHeight, rs.format.z16, DepthStreamFPS)\n",
    "\n",
    "# Start streaming\n",
    "pipeline.start(config)"
   ]
  },
  {
   "cell_type": "code",
   "execution_count": 4,
   "metadata": {
    "collapsed": true
   },
   "outputs": [],
   "source": [
    "while True:\n",
    "\n",
    "    # Wait for a coherent pair of frames: depth and color\n",
    "    frames = pipeline.wait_for_frames()\n",
    "    \n",
    "    if EnableColorStream:\n",
    "        color_frame = frames.get_color_frame()\n",
    "        if not color_frame:\n",
    "            continue\n",
    "    \n",
    "    if EnableDepthStream:\n",
    "        depth_frame = frames.get_depth_frame()\n",
    "        if not depth_frame:\n",
    "            continue\n",
    "\n",
    "    # Convert images to numpy arrays\n",
    "    if EnableColorStream:\n",
    "        color_image = np.asanyarray(color_frame.get_data())\n",
    "    \n",
    "    if EnableDepthStream:\n",
    "        depth_image = np.asanyarray(depth_frame.get_data())\n",
    "\n",
    "    # Apply colormap on depth image (image must be converted to 8-bit per pixel first)\n",
    "    minVal, maxVal, minLoc, maxLoc = cv2.minMaxLoc(depth_image)\n",
    "    \n",
    "    if maxVal >= 6500:\n",
    "        maxVal = 6500\n",
    "        \n",
    "    scaleAlpha = 255 / (maxVal - minVal)\n",
    "    scaleBeta = -1 * minVal\n",
    "    \n",
    "    depth_colormap = cv2.applyColorMap(\n",
    "        cv2.convertScaleAbs(depth_image, None, scaleAlpha, scaleBeta), cv2.COLORMAP_JET)\n",
    "\n",
    "    # Show images\n",
    "    if EnableColorStream:\n",
    "        cv2.imshow('Color image', color_image)\n",
    "    \n",
    "    if EnableDepthStream:\n",
    "        cv2.imshow('Depth image', depth_colormap)\n",
    "    \n",
    "    getKey = cv2.waitKey(10) & 0xFF\n",
    "    if getKey is ord('c'):\n",
    "        capture = 1\n",
    "    elif getKey is ord('q'):\n",
    "        break"
   ]
  },
  {
   "cell_type": "code",
   "execution_count": 5,
   "metadata": {
    "collapsed": true
   },
   "outputs": [],
   "source": [
    "# Stop streaming\n",
    "cv2.destroyAllWindows()\n",
    "pipeline.stop()"
   ]
  }
 ],
 "metadata": {
  "kernelspec": {
   "display_name": "Python 3",
   "language": "python",
   "name": "python3"
  },
  "language_info": {
   "codemirror_mode": {
    "name": "ipython",
    "version": 3
   },
   "file_extension": ".py",
   "mimetype": "text/x-python",
   "name": "python",
   "nbconvert_exporter": "python",
   "pygments_lexer": "ipython3",
   "version": "3.6.3"
  }
 },
 "nbformat": 4,
 "nbformat_minor": 2
}
