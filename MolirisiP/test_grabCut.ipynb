{
 "cells": [
  {
   "cell_type": "code",
   "execution_count": 89,
   "metadata": {
    "collapsed": true
   },
   "outputs": [],
   "source": [
    "import pyrealsense2 as rs\n",
    "import numpy as np\n",
    "import cv2\n",
    "import imutils\n",
    "\n",
    "import time\n",
    "import math\n",
    "\n",
    "%matplotlib inline\n",
    "from matplotlib import pyplot as plt"
   ]
  },
  {
   "cell_type": "code",
   "execution_count": 90,
   "metadata": {
    "collapsed": true
   },
   "outputs": [],
   "source": [
    "img = cv2.imread('./image/boxColor.png')\n",
    "imgOrig = img.copy()\n",
    "\n",
    "mask = np.zeros(img.shape[:2],np.uint8)\n",
    "bgdModel = np.zeros((1,65),np.float64)\n",
    "fgdModel = np.zeros((1,65),np.float64)"
   ]
  },
  {
   "cell_type": "code",
   "execution_count": 91,
   "metadata": {
    "collapsed": true
   },
   "outputs": [],
   "source": [
    "font = cv2.FONT_HERSHEY_TRIPLEX\n",
    "textString = ''\n",
    "colorFPS = (255,255,0)\n",
    "colorDist = (0, 255,255)\n",
    "colorRect = (0, 255,255)\n",
    "\n",
    "colorLine = (0, 255, 0)\n",
    "sizeLine = 3\n",
    "colorLineP = (0, 255, 255)\n",
    "sizeLineP = 1"
   ]
  },
  {
   "cell_type": "code",
   "execution_count": 92,
   "metadata": {
    "collapsed": true
   },
   "outputs": [],
   "source": [
    "# grabcut global parameters\n",
    "flagGrab = False\n",
    "flagDispGrab = False\n",
    "flagClickGrab = False\n",
    "\n",
    "flagPaintYellow = False\n",
    "flagPaintRed = False\n",
    "flagRect = False\n",
    "\n",
    "flagGrabFinish = False\n",
    "\n",
    "grabCordLTX = -1\n",
    "grabCordLTY = -1\n",
    "grabCordRDX = -1\n",
    "grabCordRDY = -1\n",
    "\n",
    "grabImg = np.zeros((512,512,3), np.uint8)\n",
    "grabImg2 = np.zeros((512,512,3), np.uint8)\n",
    "grabImg3 = np.zeros((512,512,3), np.uint8)\n",
    "\n",
    "grabPaintX = -1\n",
    "grabPaintY = -1\n",
    "\n",
    "rect = (-1, -1, -1, -1)\n",
    "thickness = 5 "
   ]
  },
  {
   "cell_type": "code",
   "execution_count": 93,
   "metadata": {
    "collapsed": true
   },
   "outputs": [],
   "source": [
    "# mouse click function\n",
    "def procMouseGrab(event,x,y,flags,param):\n",
    "    global grabCordLTX, grabCordLTY, grabCordRDX, grabCordRDY\n",
    "    global grabPaintX, grabPaintY\n",
    "    global flagClickGrab, flagPaintYellow, flagPaintRed, flagRect\n",
    "    global grabImg, grabImg2, grabImg3\n",
    "    \n",
    "    if event is cv2.EVENT_LBUTTONDOWN:\n",
    "        if flagRect is True:\n",
    "            if flags & cv2.EVENT_FLAG_CTRLKEY:\n",
    "                grabPaintX = x\n",
    "                grabPaintY = y\n",
    "                flagPaintYellow = True\n",
    "            elif flags & cv2.EVENT_FLAG_SHIFTKEY:\n",
    "                grabPaintX = x\n",
    "                grabPaintY = y\n",
    "                flagPaintRed = True\n",
    "        else:      \n",
    "            if grabCordLTY != -1 and grabCordRDY != -1:\n",
    "                grabImg = img.copy()\n",
    "                grabImg3 = img.copy()\n",
    "\n",
    "            grabCordLTX = x\n",
    "            grabCordLTY = y\n",
    "            flagClickGrab = True\n",
    "            grabImg2 = grabImg.copy()\n",
    "        \n",
    "    elif event is cv2.EVENT_MOUSEMOVE:\n",
    "        if flagClickGrab is True:\n",
    "            grabCordRDX = x\n",
    "            grabCordRDY = y\n",
    "        elif flagPaintYellow is True or flagPaintRed is True:\n",
    "            grabPaintX = x\n",
    "            grabPaintY = y\n",
    "\n",
    "    elif event is cv2.EVENT_LBUTTONUP:\n",
    "        if flagPaintYellow is True:\n",
    "            grabPaintX = x\n",
    "            grabPaintY = y\n",
    "            flagPaintYellow = False\n",
    "        elif flagPaintRed is True:\n",
    "            grabPaintX = x\n",
    "            grabPaintY = y\n",
    "            flagPaintRed = False\n",
    "        else:    \n",
    "            grabCordRDX = x\n",
    "            grabCordRDY = y\n",
    "            flagClickGrab = False"
   ]
  },
  {
   "cell_type": "code",
   "execution_count": 94,
   "metadata": {
    "collapsed": true
   },
   "outputs": [],
   "source": [
    "def procGrabUI():\n",
    "    global flagGrab, flagDispGrab, flagClickGrab, flagPaintYellow, flagPaintRed, flagRect, flagGrabFinish\n",
    "    global grabCordLTX, grabCordLTY, grabCordRDX, grabCordRDY\n",
    "    global grabPaintX, grabPaintY\n",
    "    global grabImg, grabImg2, grabImg3\n",
    "    global mask, bgdModel, fgdModel, rect\n",
    "    \n",
    "    if flagGrab is True:\n",
    "        grabImg = img.copy()\n",
    "        grabImg3 = img.copy()\n",
    "        cv2.namedWindow('GrabCutUI')\n",
    "        cv2.setMouseCallback('GrabCutUI', procMouseGrab)\n",
    "        cv2.imshow('GrabCutUI', grabImg)\n",
    "        flagDispGrab= True\n",
    "        flagGrab = False\n",
    "    \n",
    "    if flagDispGrab is True:\n",
    "        \n",
    "        if flagPaintYellow is True and flagRect is True:\n",
    "            cv2.circle(grabImg, (grabPaintX,grabPaintY), thickness, (0, 255, 255), -1)\n",
    "            cv2.circle(mask, (grabPaintX,grabPaintY), thickness, 1, -1)      \n",
    "            cv2.imshow('GrabCutUI', grabImg)\n",
    "            \n",
    "            if flagGrabFinish is True:\n",
    "                cv2.circle(grabImg3, (grabPaintX,grabPaintY), thickness, (0, 255, 255), -1)\n",
    "                cv2.imshow('GRABCUT', grabImg3)\n",
    "        \n",
    "        if flagPaintRed is True and flagRect is True:\n",
    "            cv2.circle(grabImg, (grabPaintX,grabPaintY), thickness, (0, 0, 255), -1)\n",
    "            cv2.circle(mask, (grabPaintX,grabPaintY), thickness, 0, -1)\n",
    "            cv2.imshow('GrabCutUI', grabImg)\n",
    "            \n",
    "            if flagGrabFinish is True:\n",
    "                cv2.circle(grabImg3, (grabPaintX,grabPaintY), thickness, 0, -1) \n",
    "                cv2.imshow('GRABCUT', grabImg3)\n",
    "\n",
    "        if flagClickGrab is True:\n",
    "            grabImg2 = grabImg.copy()\n",
    "            if grabCordLTX != -1 and grabCordRDX != -1:\n",
    "                cv2.rectangle(grabImg2, (grabCordLTX,grabCordLTY), (grabCordRDX, grabCordRDY), colorLineP, sizeLineP)\n",
    "            cv2.imshow('GrabCutUI', grabImg2)\n",
    "        else:\n",
    "            if grabCordLTX != -1 and grabCordRDX != -1:\n",
    "                cv2.rectangle(grabImg, (grabCordLTX,grabCordLTY), (grabCordRDX, grabCordRDY), colorLine, sizeLine)\n",
    "                \n",
    "                rect = (grabCordLTX, grabCordLTY, grabCordRDX, grabCordRDY)\n",
    "                cv2.grabCut(grabImg3, mask, rect, bgdModel, fgdModel, 1, cv2.GC_INIT_WITH_RECT)            \n",
    "                flagRect = True\n",
    "\n",
    "                grabCordLTX = -1\n",
    "                grabCordRDX = -1\n",
    "\n",
    "            cv2.imshow('GrabCutUI', grabImg)"
   ]
  },
  {
   "cell_type": "code",
   "execution_count": 95,
   "metadata": {
    "collapsed": true
   },
   "outputs": [],
   "source": [
    "def procGrabCut():\n",
    "    global grabImg3\n",
    "    global mask, bgdModel, fgdModel, rect\n",
    "    global flagGrabFinish\n",
    "    \n",
    "    cv2.grabCut(grabImg3, mask, rect, bgdModel, fgdModel, 1, cv2.GC_INIT_WITH_MASK)   \n",
    "    mask2 = np.where((mask == 2) | (mask == 0), 0, 1).astype('uint8')\n",
    "    grabImg3 = grabImg3 * mask2[:,:,np.newaxis]\n",
    "    cv2.imshow('GRABCUT', grabImg3)\n",
    "    flagGrabFinish = True"
   ]
  },
  {
   "cell_type": "code",
   "execution_count": 96,
   "metadata": {},
   "outputs": [],
   "source": [
    "while True:\n",
    "    cv2.imshow('Original', img)\n",
    "    procGrabUI()\n",
    "    \n",
    "    \n",
    "    getKey = cv2.waitKey(10) & 0xFF\n",
    "    if getKey is ord('q') or getKey is ord('Q'):\n",
    "        break\n",
    "    elif getKey is ord('g') or getKey is ord('G'):\n",
    "        flagGrab = True\n",
    "    elif getKey is ord('h') or getKey is ord('H'):\n",
    "        if flagRect is True:\n",
    "            procGrabCut()\n",
    "    elif getKey is ord('x') or getKey is ord('X'):\n",
    "        cv2.destroyAllWindows()\n",
    "        flagDispGrab = False\n",
    "        flagGrabFinish = False\n",
    "        cv2.namedWindow('GrabCutUI')\n",
    "        cv2.setMouseCallback('GrabCutUI', procMouseGrab)"
   ]
  },
  {
   "cell_type": "code",
   "execution_count": 97,
   "metadata": {
    "collapsed": true
   },
   "outputs": [],
   "source": [
    "cv2.destroyAllWindows()"
   ]
  },
  {
   "cell_type": "raw",
   "metadata": {},
   "source": [
    "\n",
    "rect = (100,35,150,150)\n",
    "cv2.grabCut(img,mask,rect,bgdModel,fgdModel,5,cv2.GC_INIT_WITH_RECT)\n",
    "mask2 = np.where((mask==2)|(mask==0),0,1).astype('uint8')\n",
    "img = img*mask2[:,:,np.newaxis]\n",
    "\n",
    "cv2.imshow('ORIGINAL',imgOrig)\n",
    "cv2.imshow('GRABCUT',img)\n",
    "\n",
    "#fileName = \"../imgCapture/\" + time.strftime(\"%Y-%m-%d_%H%M%S\", time.localtime()) + '.png'\n",
    "#cv2.imwrite(fileName, img, [int(cv2.IMWRITE_PNG_COMPRESSION), 9])\n",
    "\n",
    "cv2.waitKey(0)\n",
    "cv2.destroyAllWindows()"
   ]
  }
 ],
 "metadata": {
  "kernelspec": {
   "display_name": "Python 3",
   "language": "python",
   "name": "python3"
  },
  "language_info": {
   "codemirror_mode": {
    "name": "ipython",
    "version": 3
   },
   "file_extension": ".py",
   "mimetype": "text/x-python",
   "name": "python",
   "nbconvert_exporter": "python",
   "pygments_lexer": "ipython3",
   "version": "3.6.3"
  }
 },
 "nbformat": 4,
 "nbformat_minor": 2
}
