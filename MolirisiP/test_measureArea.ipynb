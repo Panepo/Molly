{
 "cells": [
  {
   "cell_type": "code",
   "execution_count": 62,
   "metadata": {
    "collapsed": true
   },
   "outputs": [],
   "source": [
    "import numpy as np\n",
    "import math"
   ]
  },
  {
   "cell_type": "code",
   "execution_count": 63,
   "metadata": {
    "collapsed": true
   },
   "outputs": [],
   "source": [
    "def procAreaTriangle(pixelA, pixelB, pixelC, depthA, depthB, depthC):\n",
    "       \n",
    "    if depthA is 0 or depthB is 0 or depthC is 0:\n",
    "        return 0\n",
    "    \n",
    "    pointA = []\n",
    "    pointA.append(float(pixelA[0]))\n",
    "    pointA.append(float(pixelA[1]))\n",
    "    pointA.append(float(depthA))\n",
    "\n",
    "    pointB = []\n",
    "    pointB.append(float(pixelB[0]))\n",
    "    pointB.append(float(pixelB[1]))\n",
    "    pointB.append(float(depthB))\n",
    "\n",
    "    pointC = []\n",
    "    pointC.append(float(pixelC[0]))\n",
    "    pointC.append(float(pixelC[1]))\n",
    "    pointC.append(float(depthC))\n",
    "       \n",
    "    vectorAB = np.array((pointB[0] - pointA[0], pointB[1] - pointA[1], pointB[2] - pointA[2]))\n",
    "    vectorAC = np.array((pointC[0] - pointA[0], pointC[1] - pointA[1], pointC[2] - pointA[2]))\n",
    "    \n",
    "    cross = np.cross(vectorAB, vectorAC)\n",
    "    crossVal = math.sqrt(cross[0] * cross[0] + cross[1] * cross[1] + cross[2] * cross[2])\n",
    "    area = 0.5 * crossVal\n",
    "    \n",
    "    return area"
   ]
  },
  {
   "cell_type": "code",
   "execution_count": 64,
   "metadata": {},
   "outputs": [
    {
     "name": "stdout",
     "output_type": "stream",
     "text": [
      "1.4142135623730951\n"
     ]
    }
   ],
   "source": [
    "img = np.zeros((2,2,1), np.uint8)\n",
    "\n",
    "img[img == 0] = 1\n",
    "\n",
    "area = 0\n",
    "height, width, channel = img.shape\n",
    "\n",
    "for i in range(0, width):\n",
    "    for j in range(0, height):\n",
    "        if i % 2 == 0:\n",
    "            img[j,i] = 2\n",
    "            \n",
    "for i in range(0, width-1):\n",
    "    for j in range(0, height-1):\n",
    "        area += procAreaTriangle([i,j], [i+1, j], [i+1, j+1], img[j,i], img[j,i+1], img[j+1,i+1])\n",
    "        area += procAreaTriangle([i,j], [i, j+1], [i+1, j+1], img[j,i], img[j+1,i], img[j+1,i+1])\n",
    "        \n",
    "print(area)"
   ]
  }
 ],
 "metadata": {
  "kernelspec": {
   "display_name": "Python 3",
   "language": "python",
   "name": "python3"
  },
  "language_info": {
   "codemirror_mode": {
    "name": "ipython",
    "version": 3
   },
   "file_extension": ".py",
   "mimetype": "text/x-python",
   "name": "python",
   "nbconvert_exporter": "python",
   "pygments_lexer": "ipython3",
   "version": "3.6.3"
  }
 },
 "nbformat": 4,
 "nbformat_minor": 2
}
