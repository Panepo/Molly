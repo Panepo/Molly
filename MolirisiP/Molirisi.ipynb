{
 "cells": [
  {
   "cell_type": "code",
   "execution_count": 22,
   "metadata": {
    "collapsed": true
   },
   "outputs": [],
   "source": [
    "import pyrealsense2 as rs\n",
    "import numpy as np\n",
    "import cv2\n",
    "import time\n",
    "import json"
   ]
  },
  {
   "cell_type": "code",
   "execution_count": 23,
   "metadata": {
    "collapsed": true
   },
   "outputs": [],
   "source": [
    "# Application Config\n",
    "EnableColorStream = 0\n",
    "ColorStreamResWidth = 1920\n",
    "ColorStreamResHeight = 1080\n",
    "ColorStreamFPS = 30\n",
    "\n",
    "EnableDepthStream = 1\n",
    "DepthStreamResWidth = 1280\n",
    "DepthStreamResHeight = 720\n",
    "DepthStreamFPS = 30\n",
    "\n",
    "capture = 0"
   ]
  },
  {
   "cell_type": "code",
   "execution_count": 24,
   "metadata": {
    "collapsed": true
   },
   "outputs": [],
   "source": [
    "DS5_product_ids = [\"0AD1\", \"0AD2\", \"0AD3\", \"0AD4\", \"0AD5\", \"0AF6\", \"0AFE\", \"0AFF\", \"0B00\", \"0B01\", \"0B03\", \"0B07\"]\n",
    "\n",
    "def find_device_that_supports_advanced_mode() :\n",
    "    ctx = rs.context()\n",
    "    ds5_dev = rs.device()\n",
    "    devices = ctx.query_devices();\n",
    "    for dev in devices:\n",
    "        if dev.supports(rs.camera_info.product_id) and str(dev.get_info(rs.camera_info.product_id)) in DS5_product_ids:\n",
    "            if dev.supports(rs.camera_info.name):\n",
    "                print(\"Found device that supports advanced mode:\", dev.get_info(rs.camera_info.name))\n",
    "            return dev\n",
    "    raise Exception(\"No device that supports advanced mode was found\")"
   ]
  },
  {
   "cell_type": "code",
   "execution_count": 25,
   "metadata": {},
   "outputs": [
    {
     "name": "stdout",
     "output_type": "stream",
     "text": [
      "Found device that supports advanced mode: Intel RealSense 410\n"
     ]
    },
    {
     "data": {
      "text/plain": [
       "'\\n\\n\\np.spc.sloK1Penalty = 132;\\np.spc.sloK1PenaltyMod1 = 77;\\np.spc.sloK1PenaltyMod2 = 234;\\np.spc.sloK2Penalty = 342;\\np.spc.sloK2PenaltyMod1 = 390;\\np.spc.sloK2PenaltyMod2 = 151;\\np.hdad.lambdaAD = 935;\\np.hdad.lambdaCensus = 26;\\n\\n\\nserialized_string = advnc_mode.serialize_json()\\nas_json_object = json.loads(serialized_string)\\njson_string = str(as_json_object).replace(\"\\'\", \\'\"\\')\\nadvnc_mode.load_json(json_string)\\n'"
      ]
     },
     "execution_count": 25,
     "metadata": {},
     "output_type": "execute_result"
    }
   ],
   "source": [
    "dev = find_device_that_supports_advanced_mode()\n",
    "advnc_mode = rs.rs400_advanced_mode(dev)\n",
    "\n",
    "current_std_depth_control_group = advnc_mode.get_depth_control()\n",
    "current_std_depth_control_group.deepSeaMedianThreshold = 789\n",
    "current_std_depth_control_group.deepSeaNeighborThreshold = 12\n",
    "current_std_depth_control_group.deepSeaSecondPeakThreshold = 600\n",
    "current_std_depth_control_group.lrAgreeThreshold = 19\n",
    "current_std_depth_control_group.minusDecrement = 23\n",
    "current_std_depth_control_group.plusIncrement = 3\n",
    "current_std_depth_control_group.scoreThreshA = 54\n",
    "current_std_depth_control_group.scoreThreshB = 887\n",
    "current_std_depth_control_group.textureCountThreshold = 0\n",
    "current_std_depth_control_group.textureDifferenceThreshold = 0\n",
    "advnc_mode.set_depth_control(current_std_depth_control_group)\n",
    "\n",
    "current_std_rsm_group = advnc_mode.get_rsm()\n",
    "current_std_rsm_group.diffThresh = 1.816750049591\n",
    "current_std_rsm_group.removeThresh = 81\n",
    "current_std_rsm_group.rsmBypass = 0\n",
    "current_std_rsm_group.sloRauDiffThresh = 1\n",
    "advnc_mode.set_rsm(current_std_rsm_group)\n",
    "\n",
    "current_std_rsvc_group = advnc_mode.get_rau_support_vector_control()\n",
    "current_std_rsvc_group.minEast = 3\n",
    "current_std_rsvc_group.minNorth = 1\n",
    "current_std_rsvc_group.minNSsum = 6\n",
    "current_std_rsvc_group.minSouth = 3\n",
    "current_std_rsvc_group.minWest = 5\n",
    "current_std_rsvc_group.minWEsum = 11\n",
    "current_std_rsvc_group.uShrink = 3\n",
    "current_std_rsvc_group.vShrink = 1\n",
    "advnc_mode.set_rau_support_vector_control(current_std_rsvc_group)\n",
    "\n",
    "curret_std_color_control_group = advnc_mode.get_color_control()\n",
    "curret_std_color_control_group.disableRAUColor = 0\n",
    "curret_std_color_control_group.disableSADColor = 0\n",
    "curret_std_color_control_group.disableSADNormalize = 0\n",
    "curret_std_color_control_group.disableSLOLeftColor = 0\n",
    "curret_std_color_control_group.disableSLORightColor = 1\n",
    "advnc_mode.set_color_control(curret_std_color_control_group)\n",
    "\n",
    "current_std_rctc_group = advnc_mode.get_rau_thresholds_control()\n",
    "current_std_rctc_group.rauDiffThresholdBlue = 14;\n",
    "current_std_rctc_group.rauDiffThresholdGreen = 723;\n",
    "current_std_rctc_group.rauDiffThresholdRed = 186;\n",
    "advnc_mode.set_rau_thresholds_control(current_std_rctc_group)\n",
    "\n",
    "current_std_sctc_group = advnc_mode.get_slo_color_thresholds_control()\n",
    "current_std_sctc_group.diffThresholdBlue = 16\n",
    "current_std_sctc_group.diffThresholdGreen = 259\n",
    "current_std_sctc_group.diffThresholdRed = 896\n",
    "advnc_mode.set_slo_color_thresholds_control(current_std_sctc_group)\n",
    "\n",
    "current_std_spc_group = advnc_mode.get_slo_penalty_control()\n",
    "current_std_spc_group.sloK1Penalty = 132\n",
    "current_std_spc_group.sloK1PenaltyMod1 = 77\n",
    "current_std_spc_group.sloK1PenaltyMod2 = 234\n",
    "current_std_spc_group.sloK2Penalty = 342\n",
    "current_std_spc_group.sloK2PenaltyMod1 = 390\n",
    "current_std_spc_group.sloK2PenaltyMod2 = 151\n",
    "advnc_mode.set_slo_penalty_control(current_std_spc_group)\n",
    "\n",
    "current_std_hdad_group = advnc_mode.get_hdad()\n",
    "current_std_hdad_group.lambdaAD = 935\n",
    "current_std_hdad_group.lambdaCensus = 26\n",
    "advnc_mode.set_hdad(current_std_hdad_group)\n",
    "\n",
    "serialized_string = advnc_mode.serialize_json()\n",
    "as_json_object = json.loads(serialized_string)\n",
    "json_string = str(as_json_object).replace(\"'\", '\\\"')\n",
    "advnc_mode.load_json(json_string)\n"
   ]
  },
  {
   "cell_type": "code",
   "execution_count": 26,
   "metadata": {},
   "outputs": [
    {
     "data": {
      "text/plain": [
       "<pyrealsense2.pipeline_profile at 0x1ad46870150>"
      ]
     },
     "execution_count": 26,
     "metadata": {},
     "output_type": "execute_result"
    }
   ],
   "source": [
    "# Configure depth and color streams\n",
    "pipeline = rs.pipeline()\n",
    "config = rs.config()\n",
    "\n",
    "if EnableColorStream:\n",
    "    config.enable_stream(\n",
    "        rs.stream.color, ColorStreamResWidth, ColorStreamResHeight, rs.format.bgr8, ColorStreamFPS)\n",
    "\n",
    "if EnableDepthStream:\n",
    "    config.enable_stream(\n",
    "        rs.stream.depth, DepthStreamResWidth, DepthStreamResHeight, rs.format.z16, DepthStreamFPS)\n",
    "\n",
    "# Start streaming\n",
    "pipeline.start(config)"
   ]
  },
  {
   "cell_type": "code",
   "execution_count": 27,
   "metadata": {},
   "outputs": [],
   "source": [
    "while True:\n",
    "    # Wait for a coherent pair of frames: depth and color\n",
    "    frames = pipeline.wait_for_frames()\n",
    "    \n",
    "    if EnableColorStream:\n",
    "        color_frame = frames.get_color_frame()\n",
    "        if not color_frame:\n",
    "            continue\n",
    "    \n",
    "    if EnableDepthStream:\n",
    "        depth_frame = frames.get_depth_frame()\n",
    "        if not depth_frame:\n",
    "            continue\n",
    "\n",
    "    # Convert images to numpy arrays\n",
    "    if EnableColorStream:\n",
    "        color_image = np.asanyarray(color_frame.get_data())\n",
    "    \n",
    "    if EnableDepthStream:\n",
    "        depth_image = np.asanyarray(depth_frame.get_data())\n",
    "    \n",
    "    depth_image = cv2.convertScaleAbs(depth_image, None, 0.1, 0)\n",
    "    #depth_image = cv2.equalizeHist(depth_image)    \n",
    "    depth_colormap = cv2.applyColorMap(depth_image, cv2.COLORMAP_JET)\n",
    "\n",
    "    # Show images\n",
    "    if EnableColorStream:\n",
    "        cv2.imshow('Color image', color_image)\n",
    "    \n",
    "    if EnableDepthStream:\n",
    "        cv2.imshow('Depth image', depth_colormap)\n",
    "    \n",
    "    # Screen capture\n",
    "    if capture:\n",
    "        if EnableColorStream:\n",
    "            fileName = \"../imageCapture/color_\" + time.strftime(\"%Y-%m-%d_%H%M%S-\", time.localtime()) + '.png'\n",
    "            cv2.imwrite(fileName, color_image, [int(cv2.IMWRITE_PNG_COMPRESSION), 0])\n",
    "        \n",
    "        if EnableDepthStream:\n",
    "            fileName = \"../imageCapture/depth_\" + time.strftime(\"%Y-%m-%d_%H%M%S-\", time.localtime()) + '.png'\n",
    "            cv2.imwrite(fileName, depth_colormap, [int(cv2.IMWRITE_PNG_COMPRESSION), 0])\n",
    "        \n",
    "        capture = 0\n",
    "    \n",
    "    # Keyboard command\n",
    "    getKey = cv2.waitKey(10) & 0xFF\n",
    "    if getKey is ord('c') or getKey is ord('C'):\n",
    "        capture = 1\n",
    "    elif getKey is ord('q') or getKey is ord('Q'):\n",
    "        break"
   ]
  },
  {
   "cell_type": "code",
   "execution_count": 28,
   "metadata": {
    "collapsed": true
   },
   "outputs": [],
   "source": [
    "# Stop streaming\n",
    "cv2.destroyAllWindows()\n",
    "pipeline.stop()"
   ]
  }
 ],
 "metadata": {
  "kernelspec": {
   "display_name": "Python 3",
   "language": "python",
   "name": "python3"
  },
  "language_info": {
   "codemirror_mode": {
    "name": "ipython",
    "version": 3
   },
   "file_extension": ".py",
   "mimetype": "text/x-python",
   "name": "python",
   "nbconvert_exporter": "python",
   "pygments_lexer": "ipython3",
   "version": "3.6.3"
  }
 },
 "nbformat": 4,
 "nbformat_minor": 2
}
