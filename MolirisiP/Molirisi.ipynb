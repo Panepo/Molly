{
 "cells": [
  {
   "cell_type": "code",
   "execution_count": 22,
   "metadata": {
    "collapsed": true
   },
   "outputs": [],
   "source": [
    "import pyrealsense2 as rs\n",
    "import numpy as np\n",
    "import cv2\n",
    "import time\n",
    "import json"
   ]
  },
  {
   "cell_type": "markdown",
   "metadata": {},
   "source": [
    "# Application Config"
   ]
  },
  {
   "cell_type": "code",
   "execution_count": 23,
   "metadata": {
    "collapsed": true
   },
   "outputs": [],
   "source": [
    "EnableColorStream = False\n",
    "ColorStreamResWidth = 1920\n",
    "ColorStreamResHeight = 1080\n",
    "ColorStreamFPS = 30\n",
    "\n",
    "EnableInfraredStream = True\n",
    "InfraredStreamResWidth = 1280\n",
    "InfraredStreamResHeight = 720\n",
    "InfraredStreamFPS = 30\n",
    "\n",
    "EnableDepthStream = True\n",
    "DepthStreamResWidth = 1280\n",
    "DepthStreamResHeight = 720\n",
    "DepthStreamFPS = 30\n",
    "\n",
    "maxDistance = 1000\n",
    "\n",
    "colorLine = (0, 255, 0)\n",
    "sizeLine = 3\n",
    "colorLineP = (0, 255, 255)\n",
    "sizeLineP = 1"
   ]
  },
  {
   "cell_type": "markdown",
   "metadata": {},
   "source": [
    "# Application flags and global parameters"
   ]
  },
  {
   "cell_type": "code",
   "execution_count": 24,
   "metadata": {
    "collapsed": true
   },
   "outputs": [],
   "source": [
    "capture = False\n",
    "point = False\n",
    "\n",
    "paint = False\n",
    "display = False\n",
    "paintLTX = -1\n",
    "paintLTY = -1\n",
    "paintRDX = -1\n",
    "paintRDY = -1\n",
    "\n",
    "img = np.zeros((512,512,3), np.uint8)\n",
    "\n",
    "click = False\n",
    "img2 = np.zeros((512,512,3), np.uint8)"
   ]
  },
  {
   "cell_type": "markdown",
   "metadata": {},
   "source": [
    "# RealSense Camera Config"
   ]
  },
  {
   "cell_type": "code",
   "execution_count": 25,
   "metadata": {},
   "outputs": [
    {
     "name": "stdout",
     "output_type": "stream",
     "text": [
      "depth scale:0.0010000000474974513\n"
     ]
    }
   ],
   "source": [
    "# Configure depth and color streams\n",
    "pipeline = rs.pipeline()\n",
    "config = rs.config()\n",
    "\n",
    "if EnableColorStream is True:\n",
    "    config.enable_stream(\n",
    "        rs.stream.color, ColorStreamResWidth, ColorStreamResHeight, rs.format.bgr8, ColorStreamFPS)\n",
    "\n",
    "if EnableInfraredStream is True:\n",
    "    config.enable_stream(\n",
    "        rs.stream.infrared, InfraredStreamResWidth, InfraredStreamResHeight, rs.format.bgr8, InfraredStreamFPS)\n",
    "    \n",
    "if EnableDepthStream is True:\n",
    "    config.enable_stream(\n",
    "        rs.stream.depth, DepthStreamResWidth, DepthStreamResHeight, rs.format.z16, DepthStreamFPS)\n",
    "\n",
    "# Start streaming\n",
    "cfg = pipeline.start(config)\n",
    "\n",
    "# Alignment\n",
    "if EnableColorStream is True:\n",
    "    align_to = rs.stream.color\n",
    "elif EnableInfraredStream is True:\n",
    "    align_to = rs.stream.infrared\n",
    "\n",
    "align = rs.align(align_to)\n",
    "    \n",
    "# Advanced settings\n",
    "dev = cfg.get_device()\n",
    "depth_sensor.set_option(rs.option.visual_preset, 4)\n",
    "depth_sensor.set_option(rs.option.enable_auto_exposure, 1)\n",
    "\n",
    "# Get depth scale\n",
    "scale = depth_sensor.get_depth_scale()\n",
    "print(\"depth scale:\" + str(scale))\n",
    "# PointCloud settings\n",
    "pc = rs.pointcloud()"
   ]
  },
  {
   "cell_type": "markdown",
   "metadata": {},
   "source": [
    "# colorize depth image"
   ]
  },
  {
   "cell_type": "code",
   "execution_count": 26,
   "metadata": {
    "collapsed": true
   },
   "outputs": [],
   "source": [
    "def procColorMap(input_image):\n",
    "    minNum, maxNum, minLoc, maxLoc = cv2.minMaxLoc(input_image)\n",
    "\n",
    "    if maxNum > maxDistance:\n",
    "        maxNum = maxDistance\n",
    "    \n",
    "    scaleAlpha = 255 / maxNum\n",
    "    input_image = cv2.convertScaleAbs(input_image, None, scaleAlpha, 0)\n",
    "    depth_colormap = cv2.applyColorMap(input_image, cv2.COLORMAP_JET)\n",
    "    \n",
    "    return depth_colormap"
   ]
  },
  {
   "cell_type": "markdown",
   "metadata": {},
   "source": [
    "# screen capture function"
   ]
  },
  {
   "cell_type": "code",
   "execution_count": 27,
   "metadata": {
    "collapsed": true
   },
   "outputs": [],
   "source": [
    "def procScreenCapture():  \n",
    "    global capture\n",
    "    if capture is True:\n",
    "        capture = False\n",
    "        if EnableColorStream is True:\n",
    "            fileName = \"../imageCapture/color_\" + time.strftime(\"%Y-%m-%d_%H%M%S-\", time.localtime()) + '.png'\n",
    "            cv2.imwrite(fileName, color_image, [int(cv2.IMWRITE_PNG_COMPRESSION), 0])\n",
    "\n",
    "        if EnableInfraredStream is True:\n",
    "            fileName = \"../imageCapture/infrared_\" + time.strftime(\"%Y-%m-%d_%H%M%S-\", time.localtime()) + '.png'\n",
    "            cv2.imwrite(fileName, infrared_image, [int(cv2.IMWRITE_PNG_COMPRESSION), 0])\n",
    "\n",
    "        if EnableDepthStream is True:\n",
    "            fileName = \"../imageCapture/depth_\" + time.strftime(\"%Y-%m-%d_%H%M%S-\", time.localtime()) + '.png'\n",
    "            cv2.imwrite(fileName, depth_colormap, [int(cv2.IMWRITE_PNG_COMPRESSION), 0])\n"
   ]
  },
  {
   "cell_type": "markdown",
   "metadata": {},
   "source": [
    "# Measure Distace Function"
   ]
  },
  {
   "cell_type": "code",
   "execution_count": 28,
   "metadata": {
    "collapsed": true
   },
   "outputs": [],
   "source": [
    "# mouse click function\n",
    "def procMouse(event,x,y,flags,param):\n",
    "    global paintLTX, paintLTY, paintRDX, paintRDY\n",
    "    global click\n",
    "    global img, img2\n",
    "    \n",
    "    if event is cv2.EVENT_LBUTTONDOWN:\n",
    "        paintLTX = x\n",
    "        paintLTY = y\n",
    "        click = True\n",
    "        img2 = img.copy()\n",
    "        \n",
    "    elif event is cv2.EVENT_MOUSEMOVE:\n",
    "        if click is True:\n",
    "            paintRDX = x\n",
    "            paintRDY = y\n",
    "\n",
    "    elif event is cv2.EVENT_LBUTTONUP:\n",
    "        paintRDX = x\n",
    "        paintRDY = y\n",
    "        click = False"
   ]
  },
  {
   "cell_type": "code",
   "execution_count": 29,
   "metadata": {
    "collapsed": true
   },
   "outputs": [],
   "source": [
    "# mouse paint function\n",
    "def procPaint():\n",
    "    global paint, display, click\n",
    "    global paintLTX, paintLTY, paintRDX, paintRDY\n",
    "    global img, img2\n",
    "    \n",
    "    if paint is True:\n",
    "        img = infrared_image\n",
    "        cv2.namedWindow('Display')\n",
    "        cv2.setMouseCallback('Display', procMouse)\n",
    "        cv2.imshow('Display', img)\n",
    "        display = True\n",
    "        paint = False\n",
    "    \n",
    "    if display is True:\n",
    "        if click is True:\n",
    "            img2 = img.copy()\n",
    "            if paintLTX != -1 and paintRDX != -1:\n",
    "                cv2.line(img2, (paintLTX,paintLTY), (paintRDX, paintRDY), colorLineP, sizeLineP)\n",
    "            cv2.imshow('Display', img2)\n",
    "        else:\n",
    "            if paintLTX != -1 and paintRDX != -1:\n",
    "                cv2.line(img, (paintLTX,paintLTY), (paintRDX, paintRDY), colorLine, sizeLine)\n",
    "                paintLTX = -1\n",
    "                paintLTY = -1\n",
    "                paintRDX = -1\n",
    "                paintRDY = -1\n",
    "\n",
    "            cv2.imshow('Display', img)"
   ]
  },
  {
   "cell_type": "code",
   "execution_count": 30,
   "metadata": {
    "collapsed": true
   },
   "outputs": [],
   "source": [
    "def procPointCloud():\n",
    "    global point\n",
    "    \n",
    "    if point is True:\n",
    "        point = False\n",
    "        points = pc.calculate(depth_frame)\n",
    "        \n",
    "        if EnableColorStream is True:\n",
    "            pc.map_to(color_frame)\n",
    "            \n",
    "        if EnableInfraredStream is True:\n",
    "            pc.map_to(infrared_frame)\n",
    "            \n",
    "        vertices = points.get_vertices()\n",
    "        tex_coords = points.get_texture_coordinates()\n",
    "        \n",
    "        for i in range(0, points.size()):\n",
    "            if vertices[i].z:\n",
    "                print(vertices[i].x)\n",
    "                print(vertices[i].y)\n",
    "                print(vertices[i].z)\n",
    "                break"
   ]
  },
  {
   "cell_type": "markdown",
   "metadata": {},
   "source": [
    "# Main Loop"
   ]
  },
  {
   "cell_type": "code",
   "execution_count": 31,
   "metadata": {
    "collapsed": true,
    "scrolled": false
   },
   "outputs": [],
   "source": [
    "while True:\n",
    "    # Wait for a coherent pair of frames: depth and color\n",
    "    frames = pipeline.wait_for_frames()\n",
    "    \n",
    "    # Aligh frames\n",
    "    aligned_frames = align.proccess(frames)\n",
    "    \n",
    "    if EnableColorStream is True:\n",
    "        color_frame = aligned_frames.get_color_frame()\n",
    "        if not color_frame:\n",
    "            continue\n",
    "            \n",
    "    if EnableInfraredStream is True:\n",
    "        infrared_frame = aligned_frames.first(rs.stream.infrared)\n",
    "        if not infrared_frame:\n",
    "            continue\n",
    "    \n",
    "    if EnableDepthStream is True:\n",
    "        depth_frame = aligned_frames.get_depth_frame()\n",
    "        if not depth_frame:\n",
    "            continue\n",
    "    \n",
    "    # Convert images to numpy arrays\n",
    "    if EnableColorStream is True:\n",
    "        color_image = np.asanyarray(color_frame.get_data())\n",
    "    \n",
    "    if EnableInfraredStream is True:\n",
    "        infrared_image = np.asanyarray(infrared_frame.get_data())\n",
    "    \n",
    "    if EnableDepthStream is True:\n",
    "        depth_image = np.asanyarray(depth_frame.get_data())\n",
    "    \n",
    "    # colorize depth image\n",
    "    depth_colormap = procColorMap(depth_image)\n",
    "   \n",
    "    # Show images\n",
    "    if EnableColorStream is True:\n",
    "        cv2.namedWindow('Color image', 0)\n",
    "        cv2.imshow('Color image', color_image)\n",
    "        \n",
    "    if EnableInfraredStream is True:\n",
    "        cv2.namedWindow('Infrared image', 0)\n",
    "        cv2.imshow('Infrared image', infrared_image)\n",
    "    \n",
    "    if EnableDepthStream is True:\n",
    "        cv2.namedWindow('Depth image', 0)\n",
    "        cv2.imshow('Depth image', depth_colormap)\n",
    "    \n",
    "    # Screen capture\n",
    "    procScreenCapture()\n",
    "        \n",
    "    # Read device temperature\n",
    "    '''\n",
    "    temp = depth_sensor.get_option(rs.option.projector_temperature)\n",
    "    print(\"proj: \" + str(temp))\n",
    "    temp = depth_sensor.get_option(rs.option.asic_temperature)\n",
    "    print(\"asic: \" + str(temp))\n",
    "    '''\n",
    "    \n",
    "    # Generate point cloud\n",
    "    procPointCloud()\n",
    "    \n",
    "    # Painit function\n",
    "    procPaint()\n",
    "        \n",
    "    # Keyboard command\n",
    "    getKey = cv2.waitKey(10) & 0xFF\n",
    "    if getKey is ord('c') or getKey is ord('C'):\n",
    "        capture = True\n",
    "    elif getKey is ord('q') or getKey is ord('Q'):\n",
    "        break\n",
    "    elif getKey is ord('p') or getKey is ord('P'):\n",
    "        point = True\n",
    "    elif getKey is ord('a') or getKey is ord('A'):\n",
    "        paint = True\n",
    "    elif getKey is ord('x') or getKey is ord('X'):\n",
    "        cv2.destroyAllWindows()"
   ]
  },
  {
   "cell_type": "code",
   "execution_count": 32,
   "metadata": {
    "collapsed": true
   },
   "outputs": [],
   "source": [
    "# Stop streaming\n",
    "cv2.destroyAllWindows()\n",
    "pipeline.stop()"
   ]
  }
 ],
 "metadata": {
  "kernelspec": {
   "display_name": "Python 3",
   "language": "python",
   "name": "python3"
  },
  "language_info": {
   "codemirror_mode": {
    "name": "ipython",
    "version": 3
   },
   "file_extension": ".py",
   "mimetype": "text/x-python",
   "name": "python",
   "nbconvert_exporter": "python",
   "pygments_lexer": "ipython3",
   "version": "3.6.3"
  }
 },
 "nbformat": 4,
 "nbformat_minor": 2
}
