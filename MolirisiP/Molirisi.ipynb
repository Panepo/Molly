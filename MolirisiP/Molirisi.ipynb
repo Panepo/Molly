{
 "cells": [
  {
   "cell_type": "code",
   "execution_count": 28,
   "metadata": {
    "collapsed": true
   },
   "outputs": [],
   "source": [
    "%matplotlib inline\n",
    "import pyrealsense2 as rs\n",
    "import numpy as np\n",
    "import cv2\n",
    "import time\n",
    "import imutils\n",
    "import math\n",
    "from matplotlib import pyplot as plt"
   ]
  },
  {
   "cell_type": "markdown",
   "metadata": {},
   "source": [
    "# application config"
   ]
  },
  {
   "cell_type": "code",
   "execution_count": 29,
   "metadata": {
    "collapsed": true
   },
   "outputs": [],
   "source": [
    "EnableColorStream = False\n",
    "ColorStreamResWidth = 1920\n",
    "ColorStreamResHeight = 1080\n",
    "ColorStreamFPS = 30\n",
    "\n",
    "EnableInfraredStream = True\n",
    "InfraredStreamResWidth = 1280\n",
    "InfraredStreamResHeight = 720\n",
    "InfraredStreamFPS = 30\n",
    "\n",
    "EnableDepthStream = True\n",
    "DepthStreamResWidth = 1280\n",
    "DepthStreamResHeight = 720\n",
    "DepthStreamFPS = 30\n",
    "\n",
    "maxDistance = 7000 # 1 meter\n",
    "\n",
    "font = cv2.FONT_HERSHEY_TRIPLEX\n",
    "textString = ''\n",
    "colorFPS = (255,255,0)\n",
    "colorDist = (0, 255,255)\n",
    "colorRect = (0, 255,255)\n",
    "\n",
    "colorLine = (0, 255, 0)\n",
    "sizeLine = 3\n",
    "colorLineP = (0, 255, 255)\n",
    "sizeLineP = 1"
   ]
  },
  {
   "cell_type": "markdown",
   "metadata": {},
   "source": [
    "# flags and global parameters"
   ]
  },
  {
   "cell_type": "code",
   "execution_count": 30,
   "metadata": {
    "collapsed": true
   },
   "outputs": [],
   "source": [
    "capture = False\n",
    "point = False\n",
    "\n",
    "# measure distance\n",
    "paint = False\n",
    "display = False\n",
    "paintLTX = -1\n",
    "paintLTY = -1\n",
    "paintRDX = -1\n",
    "paintRDY = -1\n",
    "img = np.zeros((512,512,3), np.uint8)\n",
    "click = False\n",
    "img2 = np.zeros((512,512,3), np.uint8)\n",
    "\n",
    "#development use\n",
    "devX = -1\n",
    "devY = -1"
   ]
  },
  {
   "cell_type": "markdown",
   "metadata": {},
   "source": [
    "# RealSense camera config"
   ]
  },
  {
   "cell_type": "code",
   "execution_count": 31,
   "metadata": {},
   "outputs": [
    {
     "name": "stdout",
     "output_type": "stream",
     "text": [
      "depth scale:0.0010000000474974513\n"
     ]
    }
   ],
   "source": [
    "# Configure depth and color streams\n",
    "pipeline = rs.pipeline()\n",
    "config = rs.config()\n",
    "\n",
    "if EnableColorStream is True:\n",
    "    config.enable_stream(\n",
    "        rs.stream.color, ColorStreamResWidth, ColorStreamResHeight, rs.format.bgr8, ColorStreamFPS)\n",
    "\n",
    "if EnableInfraredStream is True:\n",
    "    config.enable_stream(\n",
    "        rs.stream.infrared, InfraredStreamResWidth, InfraredStreamResHeight, rs.format.bgr8, InfraredStreamFPS)\n",
    "    \n",
    "if EnableDepthStream is True:\n",
    "    config.enable_stream(\n",
    "        rs.stream.depth, DepthStreamResWidth, DepthStreamResHeight, rs.format.z16, DepthStreamFPS)\n",
    "\n",
    "# Start streaming\n",
    "cfg = pipeline.start(config)\n",
    "\n",
    "# Alignment\n",
    "if EnableColorStream is True:\n",
    "    align_to = rs.stream.color\n",
    "elif EnableInfraredStream is True:\n",
    "    align_to = rs.stream.infrared\n",
    "\n",
    "align = rs.align(align_to)\n",
    "    \n",
    "# Advanced settings\n",
    "dev = cfg.get_device()\n",
    "depth_sensor = dev.first_depth_sensor()\n",
    "depth_sensor.set_option(rs.option.visual_preset, 4)\n",
    "depth_sensor.set_option(rs.option.enable_auto_exposure, 1)\n",
    "\n",
    "# Get depth scale\n",
    "scale = depth_sensor.get_depth_scale()\n",
    "print(\"depth scale:\" + str(scale))\n",
    "# PointCloud settings\n",
    "pc = rs.pointcloud()"
   ]
  },
  {
   "cell_type": "markdown",
   "metadata": {},
   "source": [
    "# color map function"
   ]
  },
  {
   "cell_type": "code",
   "execution_count": 32,
   "metadata": {
    "collapsed": true
   },
   "outputs": [],
   "source": [
    "def procColorMap(input_image):\n",
    "    inp = input_image.copy()\n",
    "    minNum, maxNum, minLoc, maxLoc = cv2.minMaxLoc(inp)\n",
    "\n",
    "    if maxNum > maxDistance:\n",
    "        maxNum = maxDistance\n",
    "    \n",
    "    scaleAlpha = 255 / maxNum\n",
    "    inp = cv2.convertScaleAbs(inp, None, scaleAlpha, 0)\n",
    "    depth_colormap = cv2.applyColorMap(inp, cv2.COLORMAP_JET)\n",
    "    \n",
    "    return depth_colormap"
   ]
  },
  {
   "cell_type": "markdown",
   "metadata": {},
   "source": [
    "# screen capture function"
   ]
  },
  {
   "cell_type": "code",
   "execution_count": 33,
   "metadata": {
    "collapsed": true
   },
   "outputs": [],
   "source": [
    "def procScreenCapture():  \n",
    "    global capture\n",
    "    if capture is True:\n",
    "        capture = False\n",
    "        if EnableColorStream is True:\n",
    "            fileName = \"../imageCapture/color_\" + time.strftime(\"%Y-%m-%d_%H%M%S-\", time.localtime()) + '.png'\n",
    "            cv2.imwrite(fileName, color_image, [int(cv2.IMWRITE_PNG_COMPRESSION), 0])\n",
    "\n",
    "        if EnableInfraredStream is True:\n",
    "            fileName = \"../imageCapture/infrared_\" + time.strftime(\"%Y-%m-%d_%H%M%S-\", time.localtime()) + '.png'\n",
    "            cv2.imwrite(fileName, infrared_image, [int(cv2.IMWRITE_PNG_COMPRESSION), 0])\n",
    "\n",
    "        if EnableDepthStream is True:\n",
    "            fileName = \"../imageCapture/depth_\" + time.strftime(\"%Y-%m-%d_%H%M%S-\", time.localtime()) + '.png'\n",
    "            cv2.imwrite(fileName, depth_colormap, [int(cv2.IMWRITE_PNG_COMPRESSION), 0])\n"
   ]
  },
  {
   "cell_type": "markdown",
   "metadata": {},
   "source": [
    "# measure distace and sectional drawing function"
   ]
  },
  {
   "cell_type": "code",
   "execution_count": 34,
   "metadata": {
    "collapsed": true
   },
   "outputs": [],
   "source": [
    "# mouse click function\n",
    "def procMouse(event,x,y,flags,param):\n",
    "    global paintLTX, paintLTY, paintRDX, paintRDY\n",
    "    global click\n",
    "    global img, img2\n",
    "    \n",
    "    if event is cv2.EVENT_LBUTTONDOWN:\n",
    "        paintLTX = x\n",
    "        paintLTY = y\n",
    "        click = True\n",
    "        img2 = img.copy()\n",
    "        \n",
    "    elif event is cv2.EVENT_MOUSEMOVE:\n",
    "        if click is True:\n",
    "            paintRDX = x\n",
    "            paintRDY = y\n",
    "\n",
    "    elif event is cv2.EVENT_LBUTTONUP:\n",
    "        paintRDX = x\n",
    "        paintRDY = y\n",
    "        click = False"
   ]
  },
  {
   "cell_type": "code",
   "execution_count": 35,
   "metadata": {
    "collapsed": true
   },
   "outputs": [],
   "source": [
    "# sectional drawing function\n",
    "def drawSect(secLTX, secLTY, secRDX, secRDY):\n",
    "    global depth_image\n",
    "    output = []\n",
    "    \n",
    "    xdiff = secRDX - secLTX\n",
    "    ydiff = secLTY - secRDY\n",
    "    \n",
    "    if xdiff < ydiff:\n",
    "        for i in range(0, ydiff):\n",
    "            posX = math.floor(secLTX + i * xdiff / ydiff)\n",
    "            posY = math.floor(secRDY + i)\n",
    "            data = depth_image[posY, posX]\n",
    "            output.append(data)\n",
    "            #print('x:' + str(posX) + ' y:' + str(posY) + ' z:' + str(data))\n",
    "    else:\n",
    "        for i in range(0, xdiff):\n",
    "            posX = math.floor(secLTX + i)\n",
    "            posY = math.floor(secRDY + i * ydiff / xdiff)\n",
    "            data = depth_image[posY, posX]\n",
    "            output.append(data)\n",
    "            #print('x:' + str(posX) + ' y:' + str(posY) + ' z:' + str(data))\n",
    "    \n",
    "    cv2.namedWindow('Sectional drawing')\n",
    "    #print(len(output))\n",
    "    \n",
    "    minOut = None\n",
    "    maxOut = None\n",
    "    for value in output:\n",
    "        if not minOut:\n",
    "            minOut = value\n",
    "        elif value < minOut:\n",
    "            minOut = value\n",
    "        \n",
    "        if not maxOut:\n",
    "            maxOut = value\n",
    "        elif value > maxOut:\n",
    "            maxOut = value\n",
    "      \n",
    "    #print('min:' + str(minOut) + ' max:' + str(maxOut))\n",
    "    \n",
    "    parm = 620 / maxOut\n",
    "    imgSec = np.zeros((720, len(output), 3), np.uint8)\n",
    "    \n",
    "    for i in range(0, len(output)):\n",
    "        cv2.line(imgSec, (i, maxOut), (i,  int((maxOut - output[i])*parm)+100 ), colorLineP, 1)\n",
    "    \n",
    "    imgSec = cv2.resize(imgSec, (1280, 720), interpolation = cv2.INTER_CUBIC)\n",
    "    cv2.imshow('Sectional drawing', imgSec)"
   ]
  },
  {
   "cell_type": "code",
   "execution_count": 36,
   "metadata": {
    "collapsed": true
   },
   "outputs": [],
   "source": [
    "# mouse paint function\n",
    "def procPaint():\n",
    "    global paint, display, click\n",
    "    global paintLTX, paintLTY, paintRDX, paintRDY\n",
    "    global img, img2\n",
    "    \n",
    "    if paint is True:\n",
    "        img = infrared_image.copy()\n",
    "        cv2.namedWindow('Display')\n",
    "        cv2.setMouseCallback('Display', procMouse)\n",
    "        cv2.imshow('Display', img)\n",
    "        display = True\n",
    "        paint = False\n",
    "    \n",
    "    if display is True:\n",
    "        if click is True:\n",
    "            img2 = img.copy()\n",
    "            if paintLTX != -1 and paintRDX != -1:\n",
    "                cv2.line(img2, (paintLTX,paintLTY), (paintRDX, paintRDY), colorLineP, sizeLineP)\n",
    "            cv2.imshow('Display', img2)\n",
    "        else:\n",
    "            if paintLTX != -1 and paintRDX != -1:\n",
    "                cv2.line(img, (paintLTX,paintLTY), (paintRDX, paintRDY), colorLine, sizeLine)\n",
    "                textString = 'distance:'\n",
    "                textX = int((paintLTX+paintRDX)/2)\n",
    "                textY = int((paintLTY+paintRDY)/2)\n",
    "                #cv2.rectangle(img, (textX-155, textY-35), (textX+155, textY+35), colorRect, -1)\n",
    "                #cv2.rectangle(img, (textX-150, textY-30), (textX+150, textY+30), (255,255,255), -1)\n",
    "                cv2.putText(img, textString, ( textX-100, textY), font, 1, colorDist, 1, cv2.LINE_AA)\n",
    "                drawSect(paintLTX, paintLTY, paintRDX, paintRDY)\n",
    "                paintLTX = -1\n",
    "                paintLTY = -1\n",
    "                paintRDX = -1\n",
    "                paintRDY = -1\n",
    "\n",
    "\n",
    "            cv2.imshow('Display', img)"
   ]
  },
  {
   "cell_type": "code",
   "execution_count": 37,
   "metadata": {
    "collapsed": true
   },
   "outputs": [],
   "source": [
    "# proc for development\n",
    "def procDepthValue(event,x,y,flags,param):\n",
    "    global devX, devY\n",
    "    \n",
    "    if event is cv2.EVENT_MOUSEMOVE:\n",
    "        if x != 0 and y != 0:\n",
    "            devX = x\n",
    "            devY = y"
   ]
  },
  {
   "cell_type": "markdown",
   "metadata": {},
   "source": [
    "# pointcloud function"
   ]
  },
  {
   "cell_type": "code",
   "execution_count": 38,
   "metadata": {
    "collapsed": true
   },
   "outputs": [],
   "source": [
    "def procPointCloud():\n",
    "    global point\n",
    "    \n",
    "    if point is True:\n",
    "        point = False\n",
    "        points = pc.calculate(depth_frame)\n",
    "        \n",
    "        if EnableColorStream is True:\n",
    "            pc.map_to(color_frame)\n",
    "            \n",
    "        if EnableInfraredStream is True:\n",
    "            pc.map_to(infrared_frame)\n",
    "            \n",
    "        vertices = points.get_vertices()\n",
    "        tex_coords = points.get_texture_coordinates()\n",
    "        \n",
    "        for i in range(0, points.size()):\n",
    "            if vertices[i].z:\n",
    "                print(vertices[i].x)\n",
    "                print(vertices[i].y)\n",
    "                print(vertices[i].z)\n",
    "                break"
   ]
  },
  {
   "cell_type": "markdown",
   "metadata": {},
   "source": [
    "# main loop"
   ]
  },
  {
   "cell_type": "code",
   "execution_count": 39,
   "metadata": {
    "collapsed": true,
    "scrolled": false
   },
   "outputs": [],
   "source": [
    "while True:\n",
    "    # Wait for a coherent pair of frames: depth and color\n",
    "    frames = pipeline.wait_for_frames()\n",
    "    \n",
    "    # Aligh frames\n",
    "    aligned_frames = align.proccess(frames)\n",
    "    \n",
    "    if EnableColorStream is True:\n",
    "        cv2.namedWindow('Color image')\n",
    "        color_frame = aligned_frames.get_color_frame()\n",
    "        if not color_frame:\n",
    "            continue\n",
    "            \n",
    "    if EnableInfraredStream is True:\n",
    "        cv2.namedWindow('Infrared image')\n",
    "        infrared_frame = aligned_frames.first(rs.stream.infrared)\n",
    "        if not infrared_frame:\n",
    "            continue\n",
    "    \n",
    "    if EnableDepthStream is True:\n",
    "        cv2.namedWindow('Depth image')\n",
    "        depth_frame = aligned_frames.get_depth_frame()\n",
    "        if not depth_frame:\n",
    "            continue\n",
    "    \n",
    "    # Convert images to numpy arrays\n",
    "    if EnableColorStream is True:\n",
    "        color_image = np.asanyarray(color_frame.get_data())\n",
    "    \n",
    "    if EnableInfraredStream is True:\n",
    "        infrared_image = np.asanyarray(infrared_frame.get_data())\n",
    "    \n",
    "    if EnableDepthStream is True:\n",
    "        depth_image = np.asanyarray(depth_frame.get_data())\n",
    "    \n",
    "    # colorize depth image\n",
    "    depth_colormap = procColorMap(depth_image)\n",
    "    \n",
    "    cv2.setMouseCallback('Infrared image', procDepthValue)\n",
    "    cv2.setMouseCallback('Depth image', procDepthValue)\n",
    "   \n",
    "    # Show images\n",
    "    if EnableColorStream is True:\n",
    "        cv2.imshow('Color image', color_image)\n",
    "        \n",
    "    if EnableInfraredStream is True:\n",
    "        #cv2.circle(infrared_image, (devX,devY), 5, colorLineP, -1)\n",
    "        textString = str(depth_image[devY, devX])\n",
    "        cv2.putText(infrared_image, textString, (devX-25, devY), font, 1, colorDist, 1, cv2.LINE_AA)\n",
    "        cv2.imshow('Infrared image', infrared_image)\n",
    "    \n",
    "    if EnableDepthStream is True:\n",
    "        #cv2.circle(depth_colormap, (devX,devY), 5, colorLineP, -1)\n",
    "        textString = str(depth_image[devY, devX])\n",
    "        cv2.putText(depth_colormap, textString, (devX-25, devY), font, 1, colorDist, 1, cv2.LINE_AA)\n",
    "        cv2.imshow('Depth image', depth_colormap)\n",
    "    \n",
    "    # Screen capture\n",
    "    procScreenCapture()\n",
    "        \n",
    "    # Read device temperature\n",
    "    '''\n",
    "    temp = depth_sensor.get_option(rs.option.projector_temperature)\n",
    "    print(\"proj: \" + str(temp))\n",
    "    temp = depth_sensor.get_option(rs.option.asic_temperature)\n",
    "    print(\"asic: \" + str(temp))\n",
    "    '''\n",
    "    \n",
    "    # Generate point cloud\n",
    "    #procPointCloud()\n",
    "    \n",
    "    # Painit function\n",
    "    procPaint()\n",
    "        \n",
    "    # Keyboard command\n",
    "    getKey = cv2.waitKey(10) & 0xFF\n",
    "    if getKey is ord('c') or getKey is ord('C'):\n",
    "        capture = True\n",
    "    elif getKey is ord('q') or getKey is ord('Q'):\n",
    "        break\n",
    "    elif getKey is ord('p') or getKey is ord('P'):\n",
    "        point = True\n",
    "    elif getKey is ord('a') or getKey is ord('A'):\n",
    "        paint = True\n",
    "    elif getKey is ord('x') or getKey is ord('X'):\n",
    "        cv2.destroyAllWindows()"
   ]
  },
  {
   "cell_type": "code",
   "execution_count": 40,
   "metadata": {
    "collapsed": true
   },
   "outputs": [],
   "source": [
    "# Stop streaming\n",
    "cv2.destroyAllWindows()\n",
    "pipeline.stop()"
   ]
  }
 ],
 "metadata": {
  "kernelspec": {
   "display_name": "Python 3",
   "language": "python",
   "name": "python3"
  },
  "language_info": {
   "codemirror_mode": {
    "name": "ipython",
    "version": 3
   },
   "file_extension": ".py",
   "mimetype": "text/x-python",
   "name": "python",
   "nbconvert_exporter": "python",
   "pygments_lexer": "ipython3",
   "version": "3.6.3"
  }
 },
 "nbformat": 4,
 "nbformat_minor": 2
}
