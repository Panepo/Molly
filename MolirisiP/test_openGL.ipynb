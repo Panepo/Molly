{
 "cells": [
  {
   "cell_type": "code",
   "execution_count": 21,
   "metadata": {
    "collapsed": true
   },
   "outputs": [],
   "source": [
    "import pygame\n",
    "from pygame.locals import *\n",
    "\n",
    "from OpenGL.GL import *\n",
    "from OpenGL.GLU import *"
   ]
  },
  {
   "cell_type": "code",
   "execution_count": 22,
   "metadata": {
    "collapsed": true
   },
   "outputs": [],
   "source": [
    "flagQuad = True\n",
    "flagLine = True\n",
    "flagPoint = True"
   ]
  },
  {
   "cell_type": "code",
   "execution_count": 23,
   "metadata": {
    "collapsed": true
   },
   "outputs": [],
   "source": [
    "verticies = (\n",
    "    (1, -1, -1),\n",
    "    (1, 1, -1),\n",
    "    (-1, 1, -1),\n",
    "    (-1, -1, -1),\n",
    "    (1, -1, 1),\n",
    "    (1, 1, 1),\n",
    "    (-1, -1, 1),\n",
    "    (-1, 1, 1)\n",
    "    )\n",
    "\n",
    "edges = (\n",
    "    (0,1),\n",
    "    (0,3),\n",
    "    (0,4),\n",
    "    (2,1),\n",
    "    (2,3),\n",
    "    (2,7),\n",
    "    (6,3),\n",
    "    (6,4),\n",
    "    (6,7),\n",
    "    (5,1),\n",
    "    (5,4),\n",
    "    (5,7)\n",
    "    )\n",
    "\n",
    "colors = (\n",
    "    (1,0,0),\n",
    "    (0,1,0),\n",
    "    (0,0,1),\n",
    "    (0,1,0),\n",
    "    (1,1,1),\n",
    "    (0,1,1),\n",
    "    (1,0,0),\n",
    "    (0,1,0),\n",
    "    (0,0,1),\n",
    "    (1,0,0),\n",
    "    (1,1,1),\n",
    "    (0,1,1),\n",
    "    )\n",
    "\n",
    "surfaces = (\n",
    "    (0,1,2,3),\n",
    "    (3,2,7,6),\n",
    "    (6,7,5,4),\n",
    "    (4,5,1,0),\n",
    "    (1,5,7,2),\n",
    "    (4,0,3,6)\n",
    "    )"
   ]
  },
  {
   "cell_type": "code",
   "execution_count": 24,
   "metadata": {
    "collapsed": true
   },
   "outputs": [],
   "source": [
    "def Cube():\n",
    "    global flagQuad, flagLine, flagPoint\n",
    "    global verticies, edges, colors, surfaces\n",
    "    \n",
    "    if flagQuad is True:\n",
    "        glBegin(GL_QUADS)\n",
    "        for surface in surfaces:\n",
    "            x = 0\n",
    "            for vertex in surface:\n",
    "                x+=1\n",
    "                glColor3fv(colors[x])\n",
    "                glVertex3fv(verticies[vertex])\n",
    "        glEnd()\n",
    "\n",
    "    if flagLine is True:\n",
    "        glBegin(GL_LINES)\n",
    "        for edge in edges:\n",
    "            for vertex in edge:\n",
    "                glVertex3fv(verticies[vertex])\n",
    "        glEnd()\n",
    "        \n",
    "    if flagPoint is True:\n",
    "        glBegin(GL_POINTS)\n",
    "        for vertex in verticies:\n",
    "            glVertex3fv(vertex)\n",
    "        glEnd()"
   ]
  },
  {
   "cell_type": "code",
   "execution_count": 25,
   "metadata": {},
   "outputs": [],
   "source": [
    "pygame.init()\n",
    "display = (800,600)\n",
    "pygame.display.set_mode(display, DOUBLEBUF|OPENGL)\n",
    "\n",
    "gluPerspective(45, (display[0]/display[1]), 0.1, 50.0)\n",
    "\n",
    "glTranslatef(0.0,0.0, -5)\n",
    "\n",
    "appEvent = True\n",
    "\n",
    "try:\n",
    "    while appEvent is True:\n",
    "        for event in pygame.event.get():\n",
    "            if event.type == pygame.QUIT:\n",
    "                appEvent = False\n",
    "            if event.type == pygame.KEYUP and event.key == pygame.K_ESCAPE:\n",
    "                appEvent = False\n",
    "                \n",
    "        glRotatef(1, 3, 1, 1)\n",
    "        glClear(GL_COLOR_BUFFER_BIT|GL_DEPTH_BUFFER_BIT)\n",
    "        Cube()\n",
    "        pygame.display.flip()\n",
    "        pygame.time.wait(10)\n",
    "        \n",
    "\n",
    "except Exception as e:\n",
    "    print(e)\n",
    "    pass\n",
    "\n",
    "finally:\n",
    "    pygame.quit()"
   ]
  }
 ],
 "metadata": {
  "kernelspec": {
   "display_name": "Python 3",
   "language": "python",
   "name": "python3"
  },
  "language_info": {
   "codemirror_mode": {
    "name": "ipython",
    "version": 3
   },
   "file_extension": ".py",
   "mimetype": "text/x-python",
   "name": "python",
   "nbconvert_exporter": "python",
   "pygments_lexer": "ipython3",
   "version": "3.6.3"
  }
 },
 "nbformat": 4,
 "nbformat_minor": 2
}
